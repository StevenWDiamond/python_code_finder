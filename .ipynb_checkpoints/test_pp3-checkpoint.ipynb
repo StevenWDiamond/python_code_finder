{
 "cells": [
  {
   "cell_type": "code",
   "execution_count": 1,
   "metadata": {
    "scrolled": true
   },
   "outputs": [],
   "source": [
    "import pandas as pd\n",
    "import os\n",
    "import sys\n",
    "import IPython\n",
    "import time\n",
    "from PIL import Image\n",
    "from IPython.display import HTML, Javascript, display\n"
   ]
  },
  {
   "cell_type": "code",
   "execution_count": 2,
   "metadata": {},
   "outputs": [
    {
     "data": {
      "text/html": [
       "<script>\n",
       "code_show=true; \n",
       "function code_toggle() {\n",
       " if (code_show){\n",
       " $('div.input').hide();\n",
       " } else {\n",
       " $('div.input').show();\n",
       " }\n",
       " code_show = !code_show\n",
       "} \n",
       "$( document ).ready(code_toggle);\n",
       "</script>\n",
       "<form action=\"javascript:code_toggle()\"><input type=\"submit\" value=\"Click here to toggle on/off the raw code.\"></form>"
      ],
      "text/plain": [
       "<IPython.core.display.HTML object>"
      ]
     },
     "execution_count": 2,
     "metadata": {},
     "output_type": "execute_result"
    }
   ],
   "source": [
    "# This code, found at https://gist.github.com/cfljam/0331cd0e307447737aa9,\n",
    "# provides a toggle show/not show raw code\n",
    "HTML('''<script>\n",
    "code_show=true; \n",
    "function code_toggle() {\n",
    " if (code_show){\n",
    " $('div.input').hide();\n",
    " } else {\n",
    " $('div.input').show();\n",
    " }\n",
    " code_show = !code_show\n",
    "} \n",
    "$( document ).ready(code_toggle);\n",
    "</script>\n",
    "<form action=\"javascript:code_toggle()\"><input type=\"submit\" value=\"Click here to toggle on/off the raw code.\"></form>''')"
   ]
  },
  {
   "cell_type": "code",
   "execution_count": 3,
   "metadata": {},
   "outputs": [],
   "source": [
    "# Data Source file\n",
    "df = pd.read_csv('./datasets/coder.csv')"
   ]
  },
  {
   "cell_type": "code",
   "execution_count": 4,
   "metadata": {},
   "outputs": [],
   "source": [
    "# Establishing language used when asking for input and creating a \n",
    "# string to show state of search at each choice point\n",
    "input_q = '\\n Enter the number of your choice:'\n",
    "current_search = ''"
   ]
  },
  {
   "cell_type": "code",
   "execution_count": 5,
   "metadata": {},
   "outputs": [],
   "source": [
    "# Building a list of the options in the first column\n",
    "category_list = list(set([x for x in df['1st_choice']]))\n",
    "category_list.sort()"
   ]
  },
  {
   "cell_type": "code",
   "execution_count": 6,
   "metadata": {},
   "outputs": [],
   "source": [
    "# Building function to that prints a message and restarts the \n",
    "# notebook. Adapted from Suraj Potnuru's code found at\n",
    "# https://stackoverflow.com/questions/54886701/how-to-code-restart-kernel-and-run-all-in-button-for-python-jupyter-notebook/55880697\n",
    "def initialize(copy):\n",
    "    print(copy)\n",
    "    time.sleep(2)\n",
    "    display(HTML(\n",
    "    '''<script>IPython.notebook.kernel.restart();\n",
    "    IPython.notebook.execute_all_cells()</script>\",\n",
    "    raw=True)\n",
    "    '''\n",
    "    ))"
   ]
  },
  {
   "cell_type": "code",
   "execution_count": 7,
   "metadata": {},
   "outputs": [],
   "source": [
    "def initialize2(prompt,copy):\n",
    "    choice_list = ['y','n','Y','N','Yes','No','YES','NO']\n",
    "    yes_list = ['y','Y','Yes','YES']\n",
    "    no_list = ['n','N','No','NO']\n",
    "    choice = ''\n",
    "    \n",
    "    while choice not in choice_list:\n",
    "        choice = input(prompt)\n",
    "        if choice in yes_list:\n",
    "            print(copy)\n",
    "            time.sleep(2)\n",
    "            display(HTML(\n",
    "            '''<script>IPython.notebook.kernel.restart();\n",
    "            IPython.notebook.execute_all_cells()</script>\",\n",
    "            raw=True)\n",
    "            '''\n",
    "            ))\n",
    "        elif choice in no_list:\n",
    "            sys.exit()\n",
    "        \n"
   ]
  },
  {
   "cell_type": "code",
   "execution_count": 8,
   "metadata": {},
   "outputs": [],
   "source": [
    "# function to ask for input\n",
    "def get_input(df,question, opt_list, current_search, ch_feature, next_feature):\n",
    "# creating list that defines the possible input responses\n",
    "    choice_list = []\n",
    "\n",
    "# checking to see if it's the first queary    \n",
    "# if not, adds the option to restart the program\n",
    "    if opt_list is not category_list:\n",
    "        opt_list.append('Restart Search')\n",
    "\n",
    "# add possible inputs to the choice_list \n",
    "    for num in range(len(opt_list)):\n",
    "        choice_list.append(str(num+1))\n",
    "\n",
    "# establishing \"choice\" variable as an empty string and creating space\n",
    "    choice = ''\n",
    "    print('\\n' * 20)        \n",
    "\n",
    "# Adding print items that come before the input queary, including:\n",
    "#  - Search status (what choices have been made so far)\n",
    "#  - Question, which defines the choice choice being made at this step\n",
    "#  - A numbered list of the answer options\n",
    "    while choice not in choice_list:\n",
    "        \n",
    "# If this is not the first choice being made, it prints the Current Search status\n",
    "# (what has been chosen so far).\n",
    "# Either way, it then prints the choice prompt (question) and \n",
    "# a numbered list of choice options (we specifically ask user to input\n",
    "# a number for ease of use and ease of checking for the while loop)\n",
    "        if current_search != '':\n",
    "            print('Current Search: \\n' + current_search + '\\n')\n",
    "            print(question)\n",
    "            for index,item in enumerate(opt_list):\n",
    "                print(f' {index + 1}. {item}')\n",
    "        else:\n",
    "            print(question)\n",
    "            for index,item in enumerate(opt_list):\n",
    "                print(f' {index + 1}. {item}')\n",
    "\n",
    "# adding 1 second pause to ensure the order of execution and then input request\n",
    "        time.sleep(1)\n",
    "        choice = input(input_q)\n",
    "\n",
    "# if user selects Restart Search, prints STARTING OVER and restarts\n",
    "# if user selects Data Visualization, prints that coming soon and offers to restart\n",
    "# otherwise, returns choice\n",
    "    if opt_list[int(choice)-1] == 'Restart Search':\n",
    "        initialize('\\n STARTING OVER')\n",
    "    elif opt_list[int(choice)-1] == 'Data Visualization Builder':\n",
    "        print(\"\\n \\n THIS MODULE COMING SOON \\n\")\n",
    "        time.sleep(1)\n",
    "        initialize2('Another Search (y/n)?','\\n STARTING OVER')\n",
    "    elif opt_list[int(choice)-1] == 'Pandas Info/Code':\n",
    "        print(\"\\n \\n THIS MODULE COMING SOON \\n\")\n",
    "        time.sleep(1)\n",
    "        initialize2('Another Search (y/n)?','\\n STARTING OVER')\n",
    "    elif opt_list[int(choice)-1] == 'Numpy Info/Code':\n",
    "        print(\"\\n \\n THIS MODULE COMING SOON \\n\")\n",
    "        time.sleep(1)\n",
    "        initialize2('Another Search (y/n)?','\\n STARTING OVER')\n",
    "    else:\n",
    "# This path of the if statement is for when we get a usable choice. It takes the \n",
    "# choice from get_input function and some of the function arguments and:\n",
    "# 1. creates a choice_index variable \n",
    "        ch_index = int(choice) - 1\n",
    "# 2. Adjusts current_search variable for future runs of this function \n",
    "        if current_search == '':\n",
    "            current_search += '  ' + opt_list[ch_index]\n",
    "        else:\n",
    "            current_search += ' > \\n  ' + opt_list[ch_index]\n",
    "# 3. creates a new DataFrame, filtering the input DF based on the chosen feature\n",
    "        new_df = df[df[ch_feature] == opt_list[ch_index]]\n",
    "# 4. creates a new category list from the new DF to use for run of this function\n",
    "        new_list = list(set([x for x in new_df[next_feature]]))\n",
    "        new_list.sort()\n",
    "# 5. returns the choice, the new DF, the new list and the updated current_search\n",
    "        return (new_df, new_list, current_search)"
   ]
  },
  {
   "cell_type": "code",
   "execution_count": 9,
   "metadata": {},
   "outputs": [
    {
     "name": "stdout",
     "output_type": "stream",
     "text": [
      "Welcome to the Python Coder.\n",
      "\n",
      "Tell us what you're looking for and we'll provide information/code \n",
      "that you can copy plus a visual sample.\n"
     ]
    }
   ],
   "source": [
    "# Welcome message that starts the program and stays up for 5 seconds\n",
    "# In a future HTML version of this program, this would not appear when\n",
    "# the user does a new search.\n",
    "welcome = '''Welcome to the Python Coder.\n",
    "\n",
    "Tell us what you're looking for and we'll provide information/code \n",
    "that you can copy plus a visual sample.'''\n",
    "\n",
    "print(welcome)\n",
    "time.sleep(5)"
   ]
  },
  {
   "cell_type": "code",
   "execution_count": null,
   "metadata": {},
   "outputs": [
    {
     "name": "stdout",
     "output_type": "stream",
     "text": [
      "\n",
      "\n",
      "\n",
      "\n",
      "\n",
      "\n",
      "\n",
      "\n",
      "\n",
      "\n",
      "\n",
      "\n",
      "\n",
      "\n",
      "\n",
      "\n",
      "\n",
      "\n",
      "\n",
      "\n",
      "\n",
      "What can we help you with?\n",
      " 1. Data Visualization Builder\n",
      " 2. Numpy Info/Code\n",
      " 3. Pandas Info/Code\n",
      " 4. Python Info/Code\n",
      "\n",
      " Enter the number of your choice:2\n",
      "\n",
      " \n",
      " THIS MODULE COMING SOON \n",
      "\n"
     ]
    }
   ],
   "source": [
    "# 1st choice for get_input\n",
    "df2, subcat_list, current_search = get_input(df, 'What can we help you with?', category_list, current_search,'1st_choice','2nd_choice')"
   ]
  },
  {
   "cell_type": "code",
   "execution_count": null,
   "metadata": {
    "scrolled": false
   },
   "outputs": [],
   "source": [
    "# 2nd choice for get_input\n",
    "df3, subcat_list2, current_search = get_input(df2, 'Subcategory - Level 1:', subcat_list, current_search,'2nd_choice','3rd_choice')"
   ]
  },
  {
   "cell_type": "code",
   "execution_count": null,
   "metadata": {
    "scrolled": false
   },
   "outputs": [],
   "source": [
    "# 3rd choice for get_input\n",
    "df4, subcat_list3, current_search = get_input(df3, 'Subcategory - Level 2:', subcat_list2, current_search,'3rd_choice','4th_choice')"
   ]
  },
  {
   "cell_type": "code",
   "execution_count": null,
   "metadata": {},
   "outputs": [],
   "source": [
    "# building function to display results, with 4 possible output scenarios:\n",
    "def print_results(df,image_col,output_col, current_search):\n",
    "    print('\\n' * 20)\n",
    "# 1. no output available message\n",
    "    if df[image_col][0] == \"no_image\" and df[output_col][0] == 'no_output':\n",
    "        print('No code/info currently available for this request.\\n\\nCheck back soon.')\n",
    "# 2. image provided only\n",
    "    elif df[output_col][0] == \"no_output\":\n",
    "        img = Image.open(df[image_col][0])\n",
    "        img.show()\n",
    "# 3. code provided only\n",
    "    elif df[image_col][0] == \"no_image\":\n",
    "        code_text = df[output_col][0]\n",
    "        print(\"Search results for: \\n\" + current_search + \"\\n \\n\" + code_text.replace('\\\\n','\\n'))\n",
    "# 4. both code and image provided\n",
    "    else:    \n",
    "        code_text = df[output_col][0]\n",
    "        print(\"Search results for: \\n\" + current_search + \"\\n \\n\" + code_text.replace('\\\\n','\\n'))\n",
    "        time.sleep(1)\n",
    "        img = Image.open(df[image_col][0])\n",
    "        img.show()\n"
   ]
  },
  {
   "cell_type": "code",
   "execution_count": null,
   "metadata": {
    "scrolled": false
   },
   "outputs": [],
   "source": [
    "# If statement checks to see if there are subsequent choices to be made\n",
    "#  - if not, it runs print_results function and then asks if user wants another search\n",
    "#  - if so, it establishes runs get_input function again\n",
    "if subcat_list3 == ['None']:\n",
    "    df4.reset_index(inplace = True)\n",
    "    print_results(df4,'image_local','output', current_search)\n",
    "    time.sleep(1)\n",
    "    initialize2('Another Search (y/n)?','\\n STARTING OVER')\n",
    "    \n",
    "else:\n",
    "    df5, subcat_list4, current_search = get_input(df4, 'Subcategory - Level 3:', subcat_list3, current_search,'4th_choice','5th_choice')"
   ]
  },
  {
   "cell_type": "code",
   "execution_count": null,
   "metadata": {},
   "outputs": [],
   "source": [
    "# If 4th choice established, if statement checks to see if there is a \n",
    "# 5th/final choice to be made\n",
    "#  - if not, it runs print_results function and then asks if user wants another search\n",
    "#  - If so, it runs get_input function a final time, runs print_results function\n",
    "#    and then asks if user wants another search\n",
    "if subcat_list4 == ['None']:\n",
    "    df5.reset_index(inplace = True)\n",
    "    print_results(df5,'image_local','output', current_search)\n",
    "    time.sleep(1)\n",
    "    initialize2('Another Search (y/n)?','\\n STARTING OVER')    \n",
    "else:\n",
    "    df6, subcat_list5,current_search = get_input(df5,'Subcategory - Level 4:',subcat_list4,current_search,'5th_choice','output')\n",
    "    df6.reset_index(inplace = True)\n",
    "    print_results(df6,'image_local','output', current_search)\n",
    "    time.sleep(1)\n",
    "    initialize2('Another Search (y/n)?','\\n STARTING OVER')"
   ]
  }
 ],
 "metadata": {
  "kernelspec": {
   "display_name": "Python 3",
   "language": "python",
   "name": "python3"
  },
  "language_info": {
   "codemirror_mode": {
    "name": "ipython",
    "version": 3
   },
   "file_extension": ".py",
   "mimetype": "text/x-python",
   "name": "python",
   "nbconvert_exporter": "python",
   "pygments_lexer": "ipython3",
   "version": "3.7.4"
  }
 },
 "nbformat": 4,
 "nbformat_minor": 4
}
